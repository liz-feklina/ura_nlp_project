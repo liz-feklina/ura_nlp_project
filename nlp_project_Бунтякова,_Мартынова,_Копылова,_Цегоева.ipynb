{
  "cells": [
    {
      "cell_type": "code",
      "source": [
        "#!pip install stanza"
      ],
      "metadata": {
        "colab": {
          "base_uri": "https://localhost:8080/"
        },
        "id": "VbKeMfdBvCGs",
        "outputId": "3fb29d1c-51bd-472a-dc6b-cb6e62941fdd"
      },
      "id": "VbKeMfdBvCGs",
      "execution_count": 2,
      "outputs": [
        {
          "output_type": "stream",
          "name": "stdout",
          "text": [
            "Looking in indexes: https://pypi.org/simple, https://us-python.pkg.dev/colab-wheels/public/simple/\n",
            "Collecting stanza\n",
            "  Downloading stanza-1.4.2-py3-none-any.whl (691 kB)\n",
            "\u001b[K     |████████████████████████████████| 691 kB 22.2 MB/s \n",
            "\u001b[?25hRequirement already satisfied: six in /usr/local/lib/python3.8/dist-packages (from stanza) (1.15.0)\n",
            "Requirement already satisfied: requests in /usr/local/lib/python3.8/dist-packages (from stanza) (2.23.0)\n",
            "Requirement already satisfied: torch>=1.3.0 in /usr/local/lib/python3.8/dist-packages (from stanza) (1.13.0+cu116)\n",
            "Requirement already satisfied: tqdm in /usr/local/lib/python3.8/dist-packages (from stanza) (4.64.1)\n",
            "Requirement already satisfied: numpy in /usr/local/lib/python3.8/dist-packages (from stanza) (1.21.6)\n",
            "Collecting emoji\n",
            "  Downloading emoji-2.2.0.tar.gz (240 kB)\n",
            "\u001b[K     |████████████████████████████████| 240 kB 50.7 MB/s \n",
            "\u001b[?25hRequirement already satisfied: protobuf in /usr/local/lib/python3.8/dist-packages (from stanza) (3.19.6)\n",
            "Requirement already satisfied: typing-extensions in /usr/local/lib/python3.8/dist-packages (from torch>=1.3.0->stanza) (4.4.0)\n",
            "Requirement already satisfied: urllib3!=1.25.0,!=1.25.1,<1.26,>=1.21.1 in /usr/local/lib/python3.8/dist-packages (from requests->stanza) (1.24.3)\n",
            "Requirement already satisfied: certifi>=2017.4.17 in /usr/local/lib/python3.8/dist-packages (from requests->stanza) (2022.12.7)\n",
            "Requirement already satisfied: idna<3,>=2.5 in /usr/local/lib/python3.8/dist-packages (from requests->stanza) (2.10)\n",
            "Requirement already satisfied: chardet<4,>=3.0.2 in /usr/local/lib/python3.8/dist-packages (from requests->stanza) (3.0.4)\n",
            "Building wheels for collected packages: emoji\n",
            "  Building wheel for emoji (setup.py) ... \u001b[?25l\u001b[?25hdone\n",
            "  Created wheel for emoji: filename=emoji-2.2.0-py3-none-any.whl size=234926 sha256=f48e079efe08e6281c14242d337f781bea885d8e2c6b4235d477aa11665f4d6e\n",
            "  Stored in directory: /root/.cache/pip/wheels/86/62/9e/a6b27a681abcde69970dbc0326ff51955f3beac72f15696984\n",
            "Successfully built emoji\n",
            "Installing collected packages: emoji, stanza\n",
            "Successfully installed emoji-2.2.0 stanza-1.4.2\n"
          ]
        }
      ]
    },
    {
      "cell_type": "code",
      "execution_count": 3,
      "id": "95c38abc",
      "metadata": {
        "id": "95c38abc",
        "colab": {
          "base_uri": "https://localhost:8080/",
          "height": 547,
          "referenced_widgets": [
            "0570ffa64873452ba1945928b648294b",
            "23654073bf0141998f34cec05bfdcb5b",
            "9a53d4c5768145599262910386a67f91",
            "90e1d7ea14874b1b9327e5fd17ee72f7",
            "1c6e5a0966764eb5829f2211fbaba731",
            "bd7fc82cd6494d969e45704d355966e0",
            "f47df04e31ec48e39b7c669ae9d8d484",
            "bad0c3ab08094e41b6d853703ee27f3f",
            "ee6b981dc5e143628022cb549005d254",
            "c4cbb0b2b7e44e2bb0e14d84e78fb2aa",
            "fef15067d6254aa683b816a0a3dfda42",
            "76196a836ca74d01a033c12522edd0c6",
            "4a06baabcda64639baa06565849e384b",
            "2f966fe0af1149f2aa60f9a2682cfb80",
            "4992fbbc7cbb4f979a39de04a366996a",
            "2f4c7f4dce0944ac97c4ac30a33aa7f1",
            "fc8d140e088e45b1999c9a0c0feb3903",
            "a71e161d7763486f92a6841598d3556c",
            "37d72c75c577458d936a93a89699b758",
            "263149859a334f1d94201c3ca1927bb5",
            "ffdb2d4287b74673967923f51d48475b",
            "4303026eb22548bb9acd3e06b56daf64",
            "b1765e9c09064ca295dbe555b011f417",
            "0cf02995f2e1497884ce32a7a8056654",
            "1704e5caea4e41b8aa2f2c376daea015",
            "456cd1902124460a997d0ef086c57059",
            "380469a18ad84cb78cb3e0a3c68ce087",
            "06642c94742a4915b014dcd0366812ca",
            "746387b4125242eea4ac6b57f9fc9b8d",
            "91fcc72c5f7c4a47a7438612781254ca",
            "37aa397684844d8a8229658e7edcbfde",
            "807c899d7501467c971dc619a2a9d488",
            "23a9c4e51f4e409fb25490a9fc95c28f"
          ]
        },
        "outputId": "62d457ab-1868-449c-c567-f763dfe5919f"
      },
      "outputs": [
        {
          "output_type": "display_data",
          "data": {
            "text/plain": [
              "Downloading https://raw.githubusercontent.com/stanfordnlp/stanza-resources/main/resources_1.4.1.json:   0%|   …"
            ],
            "application/vnd.jupyter.widget-view+json": {
              "version_major": 2,
              "version_minor": 0,
              "model_id": "0570ffa64873452ba1945928b648294b"
            }
          },
          "metadata": {}
        },
        {
          "output_type": "stream",
          "name": "stderr",
          "text": [
            "INFO:stanza:Downloading default packages for language: ru (Russian) ...\n"
          ]
        },
        {
          "output_type": "display_data",
          "data": {
            "text/plain": [
              "Downloading https://huggingface.co/stanfordnlp/stanza-ru/resolve/v1.4.1/models/default.zip:   0%|          | 0…"
            ],
            "application/vnd.jupyter.widget-view+json": {
              "version_major": 2,
              "version_minor": 0,
              "model_id": "76196a836ca74d01a033c12522edd0c6"
            }
          },
          "metadata": {}
        },
        {
          "output_type": "stream",
          "name": "stderr",
          "text": [
            "INFO:stanza:Finished downloading models and saved to /root/stanza_resources.\n",
            "INFO:stanza:Checking for updates to resources.json in case models have been updated.  Note: this behavior can be turned off with download_method=None or download_method=DownloadMethod.REUSE_RESOURCES\n"
          ]
        },
        {
          "output_type": "display_data",
          "data": {
            "text/plain": [
              "Downloading https://raw.githubusercontent.com/stanfordnlp/stanza-resources/main/resources_1.4.1.json:   0%|   …"
            ],
            "application/vnd.jupyter.widget-view+json": {
              "version_major": 2,
              "version_minor": 0,
              "model_id": "b1765e9c09064ca295dbe555b011f417"
            }
          },
          "metadata": {}
        },
        {
          "output_type": "stream",
          "name": "stderr",
          "text": [
            "INFO:stanza:Loading these models for language: ru (Russian):\n",
            "=========================\n",
            "| Processor | Package   |\n",
            "-------------------------\n",
            "| tokenize  | syntagrus |\n",
            "| pos       | syntagrus |\n",
            "| lemma     | syntagrus |\n",
            "=========================\n",
            "\n",
            "INFO:stanza:Use device: cpu\n",
            "INFO:stanza:Loading: tokenize\n",
            "INFO:stanza:Loading: pos\n",
            "INFO:stanza:Loading: lemma\n",
            "INFO:stanza:Done loading processors!\n",
            "[nltk_data] Downloading package stopwords to /root/nltk_data...\n",
            "[nltk_data]   Unzipping corpora/stopwords.zip.\n"
          ]
        }
      ],
      "source": [
        "from sklearn.model_selection import train_test_split\n",
        "import pandas as pd\n",
        "from nltk.corpus import stopwords as nltk_stopwords\n",
        "from sklearn.feature_extraction.text import TfidfVectorizer\n",
        "import nltk\n",
        "from imblearn.over_sampling import RandomOverSampler\n",
        "from sklearn.linear_model import LogisticRegression\n",
        "from torch.utils.data import Dataset as td\n",
        "from sklearn.metrics import accuracy_score\n",
        "import pandas as pd\n",
        "\n",
        "import stanza\n",
        "stanza.download('ru')\n",
        "nlp = stanza.Pipeline('ru', processors='tokenize,lemma,pos')\n",
        "from collections import defaultdict, Counter\n",
        "\n",
        "import nltk\n",
        "nltk.download('stopwords')\n",
        "stopwords = set(nltk_stopwords.words(\"russian\"))"
      ]
    },
    {
      "cell_type": "markdown",
      "id": "2c0e2817",
      "metadata": {
        "id": "2c0e2817"
      },
      "source": [
        "# Задания 1, 2: категория и тональность упоминаний\n",
        "\n",
        "Выделяем только аспекты, встретившиеся в train'е, приписываем самую частотную категорию. "
      ]
    },
    {
      "cell_type": "code",
      "execution_count": 4,
      "id": "20d96f3b",
      "metadata": {
        "id": "20d96f3b"
      },
      "outputs": [],
      "source": [
        "train_asp = pd.read_csv('train_aspects.txt', \n",
        "                        delimiter='\\t', \n",
        "                        names=['text_id', 'category', 'mention', 'start', 'end', 'sentiment']\n",
        "                        \n",
        ")\n",
        "train_texts = pd.read_csv('train_reviews.txt', \n",
        "                          delimiter='\\t', \n",
        "                          names=['text_id','text'])"
      ]
    },
    {
      "cell_type": "code",
      "execution_count": 5,
      "id": "8237cc2d",
      "metadata": {
        "id": "8237cc2d"
      },
      "outputs": [],
      "source": [
        "def normalize(text):\n",
        "    doc = nlp(text)\n",
        "    words = [word.lemma for sent in doc.sentences for word in sent.words]\n",
        "    return words"
      ]
    },
    {
      "cell_type": "code",
      "execution_count": null,
      "id": "ce707ba5",
      "metadata": {
        "id": "ce707ba5"
      },
      "outputs": [],
      "source": [
        "train_asp['norm_mention'] = [tuple(normalize(m)) for m in train_asp['mention']]"
      ]
    },
    {
      "cell_type": "markdown",
      "id": "56b87916",
      "metadata": {
        "id": "56b87916"
      },
      "source": [
        "Строим частотный словарь \"токенизированное упоминание + категория\"\n",
        "\n",
        "Категория - аспектная категория или тональность"
      ]
    },
    {
      "cell_type": "code",
      "execution_count": null,
      "id": "89e2d282",
      "metadata": {
        "id": "89e2d282"
      },
      "outputs": [],
      "source": [
        "def get_mention_category(data, cat_type):\n",
        "    mention_categories = data.value_counts(subset=['norm_mention', cat_type])\n",
        "    mention_categories_dict = defaultdict(dict)\n",
        "    for key, value in mention_categories.items():\n",
        "        mention_categories_dict[key[0]][key[1]] = value\n",
        " \n",
        "    return {k: Counter(v).most_common(1)[0][0] for k, v in mention_categories_dict.items() if int(Counter(v).most_common(1)[0][1]) >= 6}"
      ]
    },
    {
      "cell_type": "code",
      "execution_count": null,
      "id": "0392994a",
      "metadata": {
        "id": "0392994a"
      },
      "outputs": [],
      "source": [
        "best_mention_cat = get_mention_category(train_asp, 'category')"
      ]
    },
    {
      "cell_type": "code",
      "execution_count": null,
      "id": "a87cad27",
      "metadata": {
        "id": "a87cad27"
      },
      "outputs": [],
      "source": [
        "best_mention_sentiment = get_mention_category(train_asp, 'sentiment')"
      ]
    },
    {
      "cell_type": "code",
      "execution_count": null,
      "id": "3caef42c",
      "metadata": {
        "id": "3caef42c"
      },
      "outputs": [],
      "source": [
        "upd_best_mention_sentiment = {}\n",
        "for k, v in best_mention_sentiment.items():\n",
        "    if k in best_mention_cat.keys():\n",
        "        upd_best_mention_sentiment[k] = v\n",
        "\n",
        "\n",
        "upd_best_mention_cat = {}\n",
        "for k, v in best_mention_cat.items():\n",
        "    if k in upd_best_mention_sentiment.keys():\n",
        "        upd_best_mention_cat[k] = v"
      ]
    },
    {
      "cell_type": "code",
      "execution_count": null,
      "id": "b7509525",
      "metadata": {
        "id": "b7509525"
      },
      "outputs": [],
      "source": [
        "test_texts = pd.read_csv('test_reviews.txt', delimiter='\\t', names=['text_id', 'text'])"
      ]
    },
    {
      "cell_type": "markdown",
      "id": "479e6faa",
      "metadata": {
        "id": "479e6faa"
      },
      "source": [
        "Длины упоминаний аспектов в трейне:"
      ]
    },
    {
      "cell_type": "code",
      "execution_count": null,
      "id": "a37fc436",
      "metadata": {
        "id": "a37fc436"
      },
      "outputs": [],
      "source": [
        "Counter([len(x) for x in upd_best_mention_sentiment.keys()])"
      ]
    },
    {
      "cell_type": "markdown",
      "id": "ec215e94",
      "metadata": {
        "id": "ec215e94"
      },
      "source": [
        "Будем учитывать только упоминания длиной 1-5 токенов:"
      ]
    },
    {
      "cell_type": "code",
      "execution_count": null,
      "id": "746d73ac",
      "metadata": {
        "id": "746d73ac"
      },
      "outputs": [],
      "source": [
        "def label_texts(text, mentions, sentiments, max_len=5):\n",
        "    tokenized = [word for sent in nlp(text).sentences for word in sent.words]\n",
        "    text_end = len(tokenized)\n",
        "    for i, token in enumerate(tokenized):\n",
        "        for l in reversed(range(max_len)):\n",
        "            if i + l > text_end:\n",
        "                continue\n",
        "            span = tokenized[i:i + l]\n",
        "            if len(span) != 0:\n",
        "                if span[0].upos == 'NOUN' or span[0].upos == 'VERB' or len(span) > 1:\n",
        "                    key = tuple([t.lemma for t in span])\n",
        "                    if key in mentions:\n",
        "                        start, end = span[0].start_char, span[-1].end_char\n",
        "                        yield mentions[key], text[start:end], start, end, sentiments[key]\n",
        "                        break"
      ]
    },
    {
      "cell_type": "markdown",
      "id": "231c65ad",
      "metadata": {
        "id": "231c65ad"
      },
      "source": [
        "Применяем частотные данные к текстам из dev:"
      ]
    },
    {
      "cell_type": "code",
      "execution_count": null,
      "id": "c7acb5ab",
      "metadata": {
        "id": "c7acb5ab"
      },
      "outputs": [],
      "source": [
        "with open('test_pred_aspects.txt', 'w', encoding='utf-8') as f:\n",
        "    for text, idx in zip(dev_texts['text'], dev_texts['text_id']):\n",
        "        for asp in label_texts(text, upd_best_mention_cat, upd_best_mention_sentiment):\n",
        "            print(idx, *asp, sep=\"\\t\", file=f)"
      ]
    },
    {
      "cell_type": "code",
      "source": [
        "with open('test_pred_aspects.txt', 'r', encoding='utf-8') as f:\n",
        "    new_final = []\n",
        "    final = []\n",
        "    asps = f.readlines()\n",
        "    real_asps = [a.strip().split('\\t') for a in asps]\n",
        "    for i in range(len(real_asps)-1):\n",
        "        f_start = real_asps[i][3]\n",
        "        f_end = real_asps[i][4]\n",
        "        s_start = real_asps[i+1][3]\n",
        "        s_end = real_asps[i+1][4]\n",
        "        if f_start == s_start:\n",
        "            if f_end > s_end:\n",
        "                final.append(real_asps[i])\n",
        "            else:\n",
        "                final.append(real_asps[i+1])\n",
        "        elif f_end == s_end:\n",
        "            if f_start < s_start:\n",
        "                final.append(real_asps[i])\n",
        "            else:\n",
        "                final.append(real_asps[i+1])\n",
        "        else:\n",
        "            final.append(real_asps[i])\n",
        "            final.append(real_asps[i+1])\n",
        "for f in final:\n",
        "    ff = '\\t'.join(f)\n",
        "    if ff not in new_final:\n",
        "        new_final.append(ff)"
      ],
      "metadata": {
        "id": "V5sdvbK7kMhX"
      },
      "id": "V5sdvbK7kMhX",
      "execution_count": null,
      "outputs": []
    },
    {
      "cell_type": "code",
      "source": [
        "with open('test_pred_aspects.txt', 'w', encoding='utf-8') as f:\n",
        "    f.write('\\n'.join(new_final))"
      ],
      "metadata": {
        "id": "thoatxLzq78b"
      },
      "id": "thoatxLzq78b",
      "execution_count": null,
      "outputs": []
    },
    {
      "cell_type": "markdown",
      "source": [
        "# Задание 3"
      ],
      "metadata": {
        "id": "4SU-VyDYnB_X"
      },
      "id": "4SU-VyDYnB_X"
    },
    {
      "cell_type": "code",
      "source": [
        "text_transformer = TfidfVectorizer(stop_words=stopwords, ngram_range=(1, 2), lowercase=True, max_features=150000)\n",
        "ros = RandomOverSampler(random_state=42)"
      ],
      "metadata": {
        "id": "kY7CgaxZnBBI"
      },
      "id": "kY7CgaxZnBBI",
      "execution_count": null,
      "outputs": []
    },
    {
      "cell_type": "code",
      "source": [
        "class Dataset(td):\n",
        "\n",
        "    def __init__(self, df, column, tokenizer=None):\n",
        "\n",
        "        self.labels = [label for label in df[column]]\n",
        "        if tokenizer:\n",
        "            self.texts = [tokenizer(text, \n",
        "                                    padding='max_length', \n",
        "                                    max_length = 512, truncation=True,\n",
        "                                    return_tensors=\"pt\") for text in df['text']]\n",
        "        else:\n",
        "            self.texts = [text for text in df['text']]\n",
        "\n",
        "    def classes(self):\n",
        "        return self.labels\n",
        "\n",
        "    def __len__(self):\n",
        "        return len(self.labels)\n",
        "\n",
        "    def get_batch_labels(self, idx):\n",
        "        # Fetch a batch of labels\n",
        "        return np.array(self.labels[idx])\n",
        "\n",
        "    def get_batch_texts(self, idx):\n",
        "        # Fetch a batch of inputs\n",
        "        return self.texts[idx]\n",
        "\n",
        "    def __getitem__(self, idx):\n",
        "\n",
        "        batch_texts = self.get_batch_texts(idx)\n",
        "        batch_y = self.get_batch_labels(idx)\n",
        "\n",
        "        return batch_texts, batch_y\n"
      ],
      "metadata": {
        "id": "cc-Fh4LvnZK9"
      },
      "id": "cc-Fh4LvnZK9",
      "execution_count": null,
      "outputs": []
    },
    {
      "cell_type": "code",
      "source": [
        "train_df_cats = pd.read_csv(\"train_cats.txt\", sep=\"\\t\", names=['id', 'cat', 'pos'])\n",
        "test_df = pd.read_csv(\"test_reviews.txt\", sep=\"\\t\", names=['id', 'text'])"
      ],
      "metadata": {
        "id": "jC4z2Xdlna2-"
      },
      "id": "jC4z2Xdlna2-",
      "execution_count": null,
      "outputs": []
    },
    {
      "cell_type": "code",
      "source": [
        "train_df_cats = train_df_cats[train_df_cats.cat=='Whole']\n",
        "train_joined = train_texts.join(train_df_cats.set_index('id'), on='id', lsuffix='_caller', rsuffix='_other')\n",
        "train_joined = train_joined[train_joined.cat == 'Whole'].replace({'positive':2, 'negative':-2, 'both':1, 'neutral':-1, 'absence':0})"
      ],
      "metadata": {
        "id": "my69vwPmnd1C"
      },
      "id": "my69vwPmnd1C",
      "execution_count": null,
      "outputs": []
    },
    {
      "cell_type": "code",
      "source": [
        "X_train_text = text_transformer.fit_transform(train_joined['text'])\n",
        "X_test_text = text_transformer.transform(test_df['text'])"
      ],
      "metadata": {
        "id": "hrw21A8BngoI"
      },
      "id": "hrw21A8BngoI",
      "execution_count": null,
      "outputs": []
    },
    {
      "cell_type": "code",
      "source": [
        "ds = Dataset(train_joined, 'pos')\n",
        "ds.texts = X_train_text\n",
        "\n",
        "x, y = ros.fit_resample(ds.texts, ds.labels)\n",
        "logit = LogisticRegression(C=6e1, solver='newton-cg', multi_class='multinomial', random_state=17, n_jobs=4)\n",
        "logit.fit(x, y)\n",
        "\n",
        "test_df['pos'] = logit.predict(X_test_text)"
      ],
      "metadata": {
        "id": "jgyEFhzkniYo"
      },
      "id": "jgyEFhzkniYo",
      "execution_count": null,
      "outputs": []
    },
    {
      "cell_type": "code",
      "source": [
        "test_df['pos'] = test_df['pos'].map({2: 'positive',  -2: 'negative', 1: 'both', -1: 'neutral', 0: 'absence'})"
      ],
      "metadata": {
        "id": "Xd7l454VpBNV"
      },
      "id": "Xd7l454VpBNV",
      "execution_count": null,
      "outputs": []
    },
    {
      "cell_type": "code",
      "source": [
        "test_df.to_csv('test_pred_cats.txt', index=False)"
      ],
      "metadata": {
        "id": "8UBtXne5nkqW"
      },
      "id": "8UBtXne5nkqW",
      "execution_count": null,
      "outputs": []
    }
  ],
  "metadata": {
    "kernelspec": {
      "display_name": "Python 3",
      "language": "python",
      "name": "python3"
    },
    "language_info": {
      "codemirror_mode": {
        "name": "ipython",
        "version": 3
      },
      "file_extension": ".py",
      "mimetype": "text/x-python",
      "name": "python",
      "nbconvert_exporter": "python",
      "pygments_lexer": "ipython3",
      "version": "3.9.4"
    },
    "colab": {
      "provenance": []
    },
    "widgets": {
      "application/vnd.jupyter.widget-state+json": {
        "0570ffa64873452ba1945928b648294b": {
          "model_module": "@jupyter-widgets/controls",
          "model_name": "HBoxModel",
          "model_module_version": "1.5.0",
          "state": {
            "_dom_classes": [],
            "_model_module": "@jupyter-widgets/controls",
            "_model_module_version": "1.5.0",
            "_model_name": "HBoxModel",
            "_view_count": null,
            "_view_module": "@jupyter-widgets/controls",
            "_view_module_version": "1.5.0",
            "_view_name": "HBoxView",
            "box_style": "",
            "children": [
              "IPY_MODEL_23654073bf0141998f34cec05bfdcb5b",
              "IPY_MODEL_9a53d4c5768145599262910386a67f91",
              "IPY_MODEL_90e1d7ea14874b1b9327e5fd17ee72f7"
            ],
            "layout": "IPY_MODEL_1c6e5a0966764eb5829f2211fbaba731"
          }
        },
        "23654073bf0141998f34cec05bfdcb5b": {
          "model_module": "@jupyter-widgets/controls",
          "model_name": "HTMLModel",
          "model_module_version": "1.5.0",
          "state": {
            "_dom_classes": [],
            "_model_module": "@jupyter-widgets/controls",
            "_model_module_version": "1.5.0",
            "_model_name": "HTMLModel",
            "_view_count": null,
            "_view_module": "@jupyter-widgets/controls",
            "_view_module_version": "1.5.0",
            "_view_name": "HTMLView",
            "description": "",
            "description_tooltip": null,
            "layout": "IPY_MODEL_bd7fc82cd6494d969e45704d355966e0",
            "placeholder": "​",
            "style": "IPY_MODEL_f47df04e31ec48e39b7c669ae9d8d484",
            "value": "Downloading https://raw.githubusercontent.com/stanfordnlp/stanza-resources/main/resources_1.4.1.json: "
          }
        },
        "9a53d4c5768145599262910386a67f91": {
          "model_module": "@jupyter-widgets/controls",
          "model_name": "FloatProgressModel",
          "model_module_version": "1.5.0",
          "state": {
            "_dom_classes": [],
            "_model_module": "@jupyter-widgets/controls",
            "_model_module_version": "1.5.0",
            "_model_name": "FloatProgressModel",
            "_view_count": null,
            "_view_module": "@jupyter-widgets/controls",
            "_view_module_version": "1.5.0",
            "_view_name": "ProgressView",
            "bar_style": "success",
            "description": "",
            "description_tooltip": null,
            "layout": "IPY_MODEL_bad0c3ab08094e41b6d853703ee27f3f",
            "max": 28918,
            "min": 0,
            "orientation": "horizontal",
            "style": "IPY_MODEL_ee6b981dc5e143628022cb549005d254",
            "value": 28918
          }
        },
        "90e1d7ea14874b1b9327e5fd17ee72f7": {
          "model_module": "@jupyter-widgets/controls",
          "model_name": "HTMLModel",
          "model_module_version": "1.5.0",
          "state": {
            "_dom_classes": [],
            "_model_module": "@jupyter-widgets/controls",
            "_model_module_version": "1.5.0",
            "_model_name": "HTMLModel",
            "_view_count": null,
            "_view_module": "@jupyter-widgets/controls",
            "_view_module_version": "1.5.0",
            "_view_name": "HTMLView",
            "description": "",
            "description_tooltip": null,
            "layout": "IPY_MODEL_c4cbb0b2b7e44e2bb0e14d84e78fb2aa",
            "placeholder": "​",
            "style": "IPY_MODEL_fef15067d6254aa683b816a0a3dfda42",
            "value": " 193k/? [00:00&lt;00:00, 6.22MB/s]"
          }
        },
        "1c6e5a0966764eb5829f2211fbaba731": {
          "model_module": "@jupyter-widgets/base",
          "model_name": "LayoutModel",
          "model_module_version": "1.2.0",
          "state": {
            "_model_module": "@jupyter-widgets/base",
            "_model_module_version": "1.2.0",
            "_model_name": "LayoutModel",
            "_view_count": null,
            "_view_module": "@jupyter-widgets/base",
            "_view_module_version": "1.2.0",
            "_view_name": "LayoutView",
            "align_content": null,
            "align_items": null,
            "align_self": null,
            "border": null,
            "bottom": null,
            "display": null,
            "flex": null,
            "flex_flow": null,
            "grid_area": null,
            "grid_auto_columns": null,
            "grid_auto_flow": null,
            "grid_auto_rows": null,
            "grid_column": null,
            "grid_gap": null,
            "grid_row": null,
            "grid_template_areas": null,
            "grid_template_columns": null,
            "grid_template_rows": null,
            "height": null,
            "justify_content": null,
            "justify_items": null,
            "left": null,
            "margin": null,
            "max_height": null,
            "max_width": null,
            "min_height": null,
            "min_width": null,
            "object_fit": null,
            "object_position": null,
            "order": null,
            "overflow": null,
            "overflow_x": null,
            "overflow_y": null,
            "padding": null,
            "right": null,
            "top": null,
            "visibility": null,
            "width": null
          }
        },
        "bd7fc82cd6494d969e45704d355966e0": {
          "model_module": "@jupyter-widgets/base",
          "model_name": "LayoutModel",
          "model_module_version": "1.2.0",
          "state": {
            "_model_module": "@jupyter-widgets/base",
            "_model_module_version": "1.2.0",
            "_model_name": "LayoutModel",
            "_view_count": null,
            "_view_module": "@jupyter-widgets/base",
            "_view_module_version": "1.2.0",
            "_view_name": "LayoutView",
            "align_content": null,
            "align_items": null,
            "align_self": null,
            "border": null,
            "bottom": null,
            "display": null,
            "flex": null,
            "flex_flow": null,
            "grid_area": null,
            "grid_auto_columns": null,
            "grid_auto_flow": null,
            "grid_auto_rows": null,
            "grid_column": null,
            "grid_gap": null,
            "grid_row": null,
            "grid_template_areas": null,
            "grid_template_columns": null,
            "grid_template_rows": null,
            "height": null,
            "justify_content": null,
            "justify_items": null,
            "left": null,
            "margin": null,
            "max_height": null,
            "max_width": null,
            "min_height": null,
            "min_width": null,
            "object_fit": null,
            "object_position": null,
            "order": null,
            "overflow": null,
            "overflow_x": null,
            "overflow_y": null,
            "padding": null,
            "right": null,
            "top": null,
            "visibility": null,
            "width": null
          }
        },
        "f47df04e31ec48e39b7c669ae9d8d484": {
          "model_module": "@jupyter-widgets/controls",
          "model_name": "DescriptionStyleModel",
          "model_module_version": "1.5.0",
          "state": {
            "_model_module": "@jupyter-widgets/controls",
            "_model_module_version": "1.5.0",
            "_model_name": "DescriptionStyleModel",
            "_view_count": null,
            "_view_module": "@jupyter-widgets/base",
            "_view_module_version": "1.2.0",
            "_view_name": "StyleView",
            "description_width": ""
          }
        },
        "bad0c3ab08094e41b6d853703ee27f3f": {
          "model_module": "@jupyter-widgets/base",
          "model_name": "LayoutModel",
          "model_module_version": "1.2.0",
          "state": {
            "_model_module": "@jupyter-widgets/base",
            "_model_module_version": "1.2.0",
            "_model_name": "LayoutModel",
            "_view_count": null,
            "_view_module": "@jupyter-widgets/base",
            "_view_module_version": "1.2.0",
            "_view_name": "LayoutView",
            "align_content": null,
            "align_items": null,
            "align_self": null,
            "border": null,
            "bottom": null,
            "display": null,
            "flex": null,
            "flex_flow": null,
            "grid_area": null,
            "grid_auto_columns": null,
            "grid_auto_flow": null,
            "grid_auto_rows": null,
            "grid_column": null,
            "grid_gap": null,
            "grid_row": null,
            "grid_template_areas": null,
            "grid_template_columns": null,
            "grid_template_rows": null,
            "height": null,
            "justify_content": null,
            "justify_items": null,
            "left": null,
            "margin": null,
            "max_height": null,
            "max_width": null,
            "min_height": null,
            "min_width": null,
            "object_fit": null,
            "object_position": null,
            "order": null,
            "overflow": null,
            "overflow_x": null,
            "overflow_y": null,
            "padding": null,
            "right": null,
            "top": null,
            "visibility": null,
            "width": null
          }
        },
        "ee6b981dc5e143628022cb549005d254": {
          "model_module": "@jupyter-widgets/controls",
          "model_name": "ProgressStyleModel",
          "model_module_version": "1.5.0",
          "state": {
            "_model_module": "@jupyter-widgets/controls",
            "_model_module_version": "1.5.0",
            "_model_name": "ProgressStyleModel",
            "_view_count": null,
            "_view_module": "@jupyter-widgets/base",
            "_view_module_version": "1.2.0",
            "_view_name": "StyleView",
            "bar_color": null,
            "description_width": ""
          }
        },
        "c4cbb0b2b7e44e2bb0e14d84e78fb2aa": {
          "model_module": "@jupyter-widgets/base",
          "model_name": "LayoutModel",
          "model_module_version": "1.2.0",
          "state": {
            "_model_module": "@jupyter-widgets/base",
            "_model_module_version": "1.2.0",
            "_model_name": "LayoutModel",
            "_view_count": null,
            "_view_module": "@jupyter-widgets/base",
            "_view_module_version": "1.2.0",
            "_view_name": "LayoutView",
            "align_content": null,
            "align_items": null,
            "align_self": null,
            "border": null,
            "bottom": null,
            "display": null,
            "flex": null,
            "flex_flow": null,
            "grid_area": null,
            "grid_auto_columns": null,
            "grid_auto_flow": null,
            "grid_auto_rows": null,
            "grid_column": null,
            "grid_gap": null,
            "grid_row": null,
            "grid_template_areas": null,
            "grid_template_columns": null,
            "grid_template_rows": null,
            "height": null,
            "justify_content": null,
            "justify_items": null,
            "left": null,
            "margin": null,
            "max_height": null,
            "max_width": null,
            "min_height": null,
            "min_width": null,
            "object_fit": null,
            "object_position": null,
            "order": null,
            "overflow": null,
            "overflow_x": null,
            "overflow_y": null,
            "padding": null,
            "right": null,
            "top": null,
            "visibility": null,
            "width": null
          }
        },
        "fef15067d6254aa683b816a0a3dfda42": {
          "model_module": "@jupyter-widgets/controls",
          "model_name": "DescriptionStyleModel",
          "model_module_version": "1.5.0",
          "state": {
            "_model_module": "@jupyter-widgets/controls",
            "_model_module_version": "1.5.0",
            "_model_name": "DescriptionStyleModel",
            "_view_count": null,
            "_view_module": "@jupyter-widgets/base",
            "_view_module_version": "1.2.0",
            "_view_name": "StyleView",
            "description_width": ""
          }
        },
        "76196a836ca74d01a033c12522edd0c6": {
          "model_module": "@jupyter-widgets/controls",
          "model_name": "HBoxModel",
          "model_module_version": "1.5.0",
          "state": {
            "_dom_classes": [],
            "_model_module": "@jupyter-widgets/controls",
            "_model_module_version": "1.5.0",
            "_model_name": "HBoxModel",
            "_view_count": null,
            "_view_module": "@jupyter-widgets/controls",
            "_view_module_version": "1.5.0",
            "_view_name": "HBoxView",
            "box_style": "",
            "children": [
              "IPY_MODEL_4a06baabcda64639baa06565849e384b",
              "IPY_MODEL_2f966fe0af1149f2aa60f9a2682cfb80",
              "IPY_MODEL_4992fbbc7cbb4f979a39de04a366996a"
            ],
            "layout": "IPY_MODEL_2f4c7f4dce0944ac97c4ac30a33aa7f1"
          }
        },
        "4a06baabcda64639baa06565849e384b": {
          "model_module": "@jupyter-widgets/controls",
          "model_name": "HTMLModel",
          "model_module_version": "1.5.0",
          "state": {
            "_dom_classes": [],
            "_model_module": "@jupyter-widgets/controls",
            "_model_module_version": "1.5.0",
            "_model_name": "HTMLModel",
            "_view_count": null,
            "_view_module": "@jupyter-widgets/controls",
            "_view_module_version": "1.5.0",
            "_view_name": "HTMLView",
            "description": "",
            "description_tooltip": null,
            "layout": "IPY_MODEL_fc8d140e088e45b1999c9a0c0feb3903",
            "placeholder": "​",
            "style": "IPY_MODEL_a71e161d7763486f92a6841598d3556c",
            "value": "Downloading https://huggingface.co/stanfordnlp/stanza-ru/resolve/v1.4.1/models/default.zip: 100%"
          }
        },
        "2f966fe0af1149f2aa60f9a2682cfb80": {
          "model_module": "@jupyter-widgets/controls",
          "model_name": "FloatProgressModel",
          "model_module_version": "1.5.0",
          "state": {
            "_dom_classes": [],
            "_model_module": "@jupyter-widgets/controls",
            "_model_module_version": "1.5.0",
            "_model_name": "FloatProgressModel",
            "_view_count": null,
            "_view_module": "@jupyter-widgets/controls",
            "_view_module_version": "1.5.0",
            "_view_name": "ProgressView",
            "bar_style": "success",
            "description": "",
            "description_tooltip": null,
            "layout": "IPY_MODEL_37d72c75c577458d936a93a89699b758",
            "max": 597217093,
            "min": 0,
            "orientation": "horizontal",
            "style": "IPY_MODEL_263149859a334f1d94201c3ca1927bb5",
            "value": 597217093
          }
        },
        "4992fbbc7cbb4f979a39de04a366996a": {
          "model_module": "@jupyter-widgets/controls",
          "model_name": "HTMLModel",
          "model_module_version": "1.5.0",
          "state": {
            "_dom_classes": [],
            "_model_module": "@jupyter-widgets/controls",
            "_model_module_version": "1.5.0",
            "_model_name": "HTMLModel",
            "_view_count": null,
            "_view_module": "@jupyter-widgets/controls",
            "_view_module_version": "1.5.0",
            "_view_name": "HTMLView",
            "description": "",
            "description_tooltip": null,
            "layout": "IPY_MODEL_ffdb2d4287b74673967923f51d48475b",
            "placeholder": "​",
            "style": "IPY_MODEL_4303026eb22548bb9acd3e06b56daf64",
            "value": " 597M/597M [00:08&lt;00:00, 78.3MB/s]"
          }
        },
        "2f4c7f4dce0944ac97c4ac30a33aa7f1": {
          "model_module": "@jupyter-widgets/base",
          "model_name": "LayoutModel",
          "model_module_version": "1.2.0",
          "state": {
            "_model_module": "@jupyter-widgets/base",
            "_model_module_version": "1.2.0",
            "_model_name": "LayoutModel",
            "_view_count": null,
            "_view_module": "@jupyter-widgets/base",
            "_view_module_version": "1.2.0",
            "_view_name": "LayoutView",
            "align_content": null,
            "align_items": null,
            "align_self": null,
            "border": null,
            "bottom": null,
            "display": null,
            "flex": null,
            "flex_flow": null,
            "grid_area": null,
            "grid_auto_columns": null,
            "grid_auto_flow": null,
            "grid_auto_rows": null,
            "grid_column": null,
            "grid_gap": null,
            "grid_row": null,
            "grid_template_areas": null,
            "grid_template_columns": null,
            "grid_template_rows": null,
            "height": null,
            "justify_content": null,
            "justify_items": null,
            "left": null,
            "margin": null,
            "max_height": null,
            "max_width": null,
            "min_height": null,
            "min_width": null,
            "object_fit": null,
            "object_position": null,
            "order": null,
            "overflow": null,
            "overflow_x": null,
            "overflow_y": null,
            "padding": null,
            "right": null,
            "top": null,
            "visibility": null,
            "width": null
          }
        },
        "fc8d140e088e45b1999c9a0c0feb3903": {
          "model_module": "@jupyter-widgets/base",
          "model_name": "LayoutModel",
          "model_module_version": "1.2.0",
          "state": {
            "_model_module": "@jupyter-widgets/base",
            "_model_module_version": "1.2.0",
            "_model_name": "LayoutModel",
            "_view_count": null,
            "_view_module": "@jupyter-widgets/base",
            "_view_module_version": "1.2.0",
            "_view_name": "LayoutView",
            "align_content": null,
            "align_items": null,
            "align_self": null,
            "border": null,
            "bottom": null,
            "display": null,
            "flex": null,
            "flex_flow": null,
            "grid_area": null,
            "grid_auto_columns": null,
            "grid_auto_flow": null,
            "grid_auto_rows": null,
            "grid_column": null,
            "grid_gap": null,
            "grid_row": null,
            "grid_template_areas": null,
            "grid_template_columns": null,
            "grid_template_rows": null,
            "height": null,
            "justify_content": null,
            "justify_items": null,
            "left": null,
            "margin": null,
            "max_height": null,
            "max_width": null,
            "min_height": null,
            "min_width": null,
            "object_fit": null,
            "object_position": null,
            "order": null,
            "overflow": null,
            "overflow_x": null,
            "overflow_y": null,
            "padding": null,
            "right": null,
            "top": null,
            "visibility": null,
            "width": null
          }
        },
        "a71e161d7763486f92a6841598d3556c": {
          "model_module": "@jupyter-widgets/controls",
          "model_name": "DescriptionStyleModel",
          "model_module_version": "1.5.0",
          "state": {
            "_model_module": "@jupyter-widgets/controls",
            "_model_module_version": "1.5.0",
            "_model_name": "DescriptionStyleModel",
            "_view_count": null,
            "_view_module": "@jupyter-widgets/base",
            "_view_module_version": "1.2.0",
            "_view_name": "StyleView",
            "description_width": ""
          }
        },
        "37d72c75c577458d936a93a89699b758": {
          "model_module": "@jupyter-widgets/base",
          "model_name": "LayoutModel",
          "model_module_version": "1.2.0",
          "state": {
            "_model_module": "@jupyter-widgets/base",
            "_model_module_version": "1.2.0",
            "_model_name": "LayoutModel",
            "_view_count": null,
            "_view_module": "@jupyter-widgets/base",
            "_view_module_version": "1.2.0",
            "_view_name": "LayoutView",
            "align_content": null,
            "align_items": null,
            "align_self": null,
            "border": null,
            "bottom": null,
            "display": null,
            "flex": null,
            "flex_flow": null,
            "grid_area": null,
            "grid_auto_columns": null,
            "grid_auto_flow": null,
            "grid_auto_rows": null,
            "grid_column": null,
            "grid_gap": null,
            "grid_row": null,
            "grid_template_areas": null,
            "grid_template_columns": null,
            "grid_template_rows": null,
            "height": null,
            "justify_content": null,
            "justify_items": null,
            "left": null,
            "margin": null,
            "max_height": null,
            "max_width": null,
            "min_height": null,
            "min_width": null,
            "object_fit": null,
            "object_position": null,
            "order": null,
            "overflow": null,
            "overflow_x": null,
            "overflow_y": null,
            "padding": null,
            "right": null,
            "top": null,
            "visibility": null,
            "width": null
          }
        },
        "263149859a334f1d94201c3ca1927bb5": {
          "model_module": "@jupyter-widgets/controls",
          "model_name": "ProgressStyleModel",
          "model_module_version": "1.5.0",
          "state": {
            "_model_module": "@jupyter-widgets/controls",
            "_model_module_version": "1.5.0",
            "_model_name": "ProgressStyleModel",
            "_view_count": null,
            "_view_module": "@jupyter-widgets/base",
            "_view_module_version": "1.2.0",
            "_view_name": "StyleView",
            "bar_color": null,
            "description_width": ""
          }
        },
        "ffdb2d4287b74673967923f51d48475b": {
          "model_module": "@jupyter-widgets/base",
          "model_name": "LayoutModel",
          "model_module_version": "1.2.0",
          "state": {
            "_model_module": "@jupyter-widgets/base",
            "_model_module_version": "1.2.0",
            "_model_name": "LayoutModel",
            "_view_count": null,
            "_view_module": "@jupyter-widgets/base",
            "_view_module_version": "1.2.0",
            "_view_name": "LayoutView",
            "align_content": null,
            "align_items": null,
            "align_self": null,
            "border": null,
            "bottom": null,
            "display": null,
            "flex": null,
            "flex_flow": null,
            "grid_area": null,
            "grid_auto_columns": null,
            "grid_auto_flow": null,
            "grid_auto_rows": null,
            "grid_column": null,
            "grid_gap": null,
            "grid_row": null,
            "grid_template_areas": null,
            "grid_template_columns": null,
            "grid_template_rows": null,
            "height": null,
            "justify_content": null,
            "justify_items": null,
            "left": null,
            "margin": null,
            "max_height": null,
            "max_width": null,
            "min_height": null,
            "min_width": null,
            "object_fit": null,
            "object_position": null,
            "order": null,
            "overflow": null,
            "overflow_x": null,
            "overflow_y": null,
            "padding": null,
            "right": null,
            "top": null,
            "visibility": null,
            "width": null
          }
        },
        "4303026eb22548bb9acd3e06b56daf64": {
          "model_module": "@jupyter-widgets/controls",
          "model_name": "DescriptionStyleModel",
          "model_module_version": "1.5.0",
          "state": {
            "_model_module": "@jupyter-widgets/controls",
            "_model_module_version": "1.5.0",
            "_model_name": "DescriptionStyleModel",
            "_view_count": null,
            "_view_module": "@jupyter-widgets/base",
            "_view_module_version": "1.2.0",
            "_view_name": "StyleView",
            "description_width": ""
          }
        },
        "b1765e9c09064ca295dbe555b011f417": {
          "model_module": "@jupyter-widgets/controls",
          "model_name": "HBoxModel",
          "model_module_version": "1.5.0",
          "state": {
            "_dom_classes": [],
            "_model_module": "@jupyter-widgets/controls",
            "_model_module_version": "1.5.0",
            "_model_name": "HBoxModel",
            "_view_count": null,
            "_view_module": "@jupyter-widgets/controls",
            "_view_module_version": "1.5.0",
            "_view_name": "HBoxView",
            "box_style": "",
            "children": [
              "IPY_MODEL_0cf02995f2e1497884ce32a7a8056654",
              "IPY_MODEL_1704e5caea4e41b8aa2f2c376daea015",
              "IPY_MODEL_456cd1902124460a997d0ef086c57059"
            ],
            "layout": "IPY_MODEL_380469a18ad84cb78cb3e0a3c68ce087"
          }
        },
        "0cf02995f2e1497884ce32a7a8056654": {
          "model_module": "@jupyter-widgets/controls",
          "model_name": "HTMLModel",
          "model_module_version": "1.5.0",
          "state": {
            "_dom_classes": [],
            "_model_module": "@jupyter-widgets/controls",
            "_model_module_version": "1.5.0",
            "_model_name": "HTMLModel",
            "_view_count": null,
            "_view_module": "@jupyter-widgets/controls",
            "_view_module_version": "1.5.0",
            "_view_name": "HTMLView",
            "description": "",
            "description_tooltip": null,
            "layout": "IPY_MODEL_06642c94742a4915b014dcd0366812ca",
            "placeholder": "​",
            "style": "IPY_MODEL_746387b4125242eea4ac6b57f9fc9b8d",
            "value": "Downloading https://raw.githubusercontent.com/stanfordnlp/stanza-resources/main/resources_1.4.1.json: "
          }
        },
        "1704e5caea4e41b8aa2f2c376daea015": {
          "model_module": "@jupyter-widgets/controls",
          "model_name": "FloatProgressModel",
          "model_module_version": "1.5.0",
          "state": {
            "_dom_classes": [],
            "_model_module": "@jupyter-widgets/controls",
            "_model_module_version": "1.5.0",
            "_model_name": "FloatProgressModel",
            "_view_count": null,
            "_view_module": "@jupyter-widgets/controls",
            "_view_module_version": "1.5.0",
            "_view_name": "ProgressView",
            "bar_style": "success",
            "description": "",
            "description_tooltip": null,
            "layout": "IPY_MODEL_91fcc72c5f7c4a47a7438612781254ca",
            "max": 28918,
            "min": 0,
            "orientation": "horizontal",
            "style": "IPY_MODEL_37aa397684844d8a8229658e7edcbfde",
            "value": 28918
          }
        },
        "456cd1902124460a997d0ef086c57059": {
          "model_module": "@jupyter-widgets/controls",
          "model_name": "HTMLModel",
          "model_module_version": "1.5.0",
          "state": {
            "_dom_classes": [],
            "_model_module": "@jupyter-widgets/controls",
            "_model_module_version": "1.5.0",
            "_model_name": "HTMLModel",
            "_view_count": null,
            "_view_module": "@jupyter-widgets/controls",
            "_view_module_version": "1.5.0",
            "_view_name": "HTMLView",
            "description": "",
            "description_tooltip": null,
            "layout": "IPY_MODEL_807c899d7501467c971dc619a2a9d488",
            "placeholder": "​",
            "style": "IPY_MODEL_23a9c4e51f4e409fb25490a9fc95c28f",
            "value": " 193k/? [00:00&lt;00:00, 2.81MB/s]"
          }
        },
        "380469a18ad84cb78cb3e0a3c68ce087": {
          "model_module": "@jupyter-widgets/base",
          "model_name": "LayoutModel",
          "model_module_version": "1.2.0",
          "state": {
            "_model_module": "@jupyter-widgets/base",
            "_model_module_version": "1.2.0",
            "_model_name": "LayoutModel",
            "_view_count": null,
            "_view_module": "@jupyter-widgets/base",
            "_view_module_version": "1.2.0",
            "_view_name": "LayoutView",
            "align_content": null,
            "align_items": null,
            "align_self": null,
            "border": null,
            "bottom": null,
            "display": null,
            "flex": null,
            "flex_flow": null,
            "grid_area": null,
            "grid_auto_columns": null,
            "grid_auto_flow": null,
            "grid_auto_rows": null,
            "grid_column": null,
            "grid_gap": null,
            "grid_row": null,
            "grid_template_areas": null,
            "grid_template_columns": null,
            "grid_template_rows": null,
            "height": null,
            "justify_content": null,
            "justify_items": null,
            "left": null,
            "margin": null,
            "max_height": null,
            "max_width": null,
            "min_height": null,
            "min_width": null,
            "object_fit": null,
            "object_position": null,
            "order": null,
            "overflow": null,
            "overflow_x": null,
            "overflow_y": null,
            "padding": null,
            "right": null,
            "top": null,
            "visibility": null,
            "width": null
          }
        },
        "06642c94742a4915b014dcd0366812ca": {
          "model_module": "@jupyter-widgets/base",
          "model_name": "LayoutModel",
          "model_module_version": "1.2.0",
          "state": {
            "_model_module": "@jupyter-widgets/base",
            "_model_module_version": "1.2.0",
            "_model_name": "LayoutModel",
            "_view_count": null,
            "_view_module": "@jupyter-widgets/base",
            "_view_module_version": "1.2.0",
            "_view_name": "LayoutView",
            "align_content": null,
            "align_items": null,
            "align_self": null,
            "border": null,
            "bottom": null,
            "display": null,
            "flex": null,
            "flex_flow": null,
            "grid_area": null,
            "grid_auto_columns": null,
            "grid_auto_flow": null,
            "grid_auto_rows": null,
            "grid_column": null,
            "grid_gap": null,
            "grid_row": null,
            "grid_template_areas": null,
            "grid_template_columns": null,
            "grid_template_rows": null,
            "height": null,
            "justify_content": null,
            "justify_items": null,
            "left": null,
            "margin": null,
            "max_height": null,
            "max_width": null,
            "min_height": null,
            "min_width": null,
            "object_fit": null,
            "object_position": null,
            "order": null,
            "overflow": null,
            "overflow_x": null,
            "overflow_y": null,
            "padding": null,
            "right": null,
            "top": null,
            "visibility": null,
            "width": null
          }
        },
        "746387b4125242eea4ac6b57f9fc9b8d": {
          "model_module": "@jupyter-widgets/controls",
          "model_name": "DescriptionStyleModel",
          "model_module_version": "1.5.0",
          "state": {
            "_model_module": "@jupyter-widgets/controls",
            "_model_module_version": "1.5.0",
            "_model_name": "DescriptionStyleModel",
            "_view_count": null,
            "_view_module": "@jupyter-widgets/base",
            "_view_module_version": "1.2.0",
            "_view_name": "StyleView",
            "description_width": ""
          }
        },
        "91fcc72c5f7c4a47a7438612781254ca": {
          "model_module": "@jupyter-widgets/base",
          "model_name": "LayoutModel",
          "model_module_version": "1.2.0",
          "state": {
            "_model_module": "@jupyter-widgets/base",
            "_model_module_version": "1.2.0",
            "_model_name": "LayoutModel",
            "_view_count": null,
            "_view_module": "@jupyter-widgets/base",
            "_view_module_version": "1.2.0",
            "_view_name": "LayoutView",
            "align_content": null,
            "align_items": null,
            "align_self": null,
            "border": null,
            "bottom": null,
            "display": null,
            "flex": null,
            "flex_flow": null,
            "grid_area": null,
            "grid_auto_columns": null,
            "grid_auto_flow": null,
            "grid_auto_rows": null,
            "grid_column": null,
            "grid_gap": null,
            "grid_row": null,
            "grid_template_areas": null,
            "grid_template_columns": null,
            "grid_template_rows": null,
            "height": null,
            "justify_content": null,
            "justify_items": null,
            "left": null,
            "margin": null,
            "max_height": null,
            "max_width": null,
            "min_height": null,
            "min_width": null,
            "object_fit": null,
            "object_position": null,
            "order": null,
            "overflow": null,
            "overflow_x": null,
            "overflow_y": null,
            "padding": null,
            "right": null,
            "top": null,
            "visibility": null,
            "width": null
          }
        },
        "37aa397684844d8a8229658e7edcbfde": {
          "model_module": "@jupyter-widgets/controls",
          "model_name": "ProgressStyleModel",
          "model_module_version": "1.5.0",
          "state": {
            "_model_module": "@jupyter-widgets/controls",
            "_model_module_version": "1.5.0",
            "_model_name": "ProgressStyleModel",
            "_view_count": null,
            "_view_module": "@jupyter-widgets/base",
            "_view_module_version": "1.2.0",
            "_view_name": "StyleView",
            "bar_color": null,
            "description_width": ""
          }
        },
        "807c899d7501467c971dc619a2a9d488": {
          "model_module": "@jupyter-widgets/base",
          "model_name": "LayoutModel",
          "model_module_version": "1.2.0",
          "state": {
            "_model_module": "@jupyter-widgets/base",
            "_model_module_version": "1.2.0",
            "_model_name": "LayoutModel",
            "_view_count": null,
            "_view_module": "@jupyter-widgets/base",
            "_view_module_version": "1.2.0",
            "_view_name": "LayoutView",
            "align_content": null,
            "align_items": null,
            "align_self": null,
            "border": null,
            "bottom": null,
            "display": null,
            "flex": null,
            "flex_flow": null,
            "grid_area": null,
            "grid_auto_columns": null,
            "grid_auto_flow": null,
            "grid_auto_rows": null,
            "grid_column": null,
            "grid_gap": null,
            "grid_row": null,
            "grid_template_areas": null,
            "grid_template_columns": null,
            "grid_template_rows": null,
            "height": null,
            "justify_content": null,
            "justify_items": null,
            "left": null,
            "margin": null,
            "max_height": null,
            "max_width": null,
            "min_height": null,
            "min_width": null,
            "object_fit": null,
            "object_position": null,
            "order": null,
            "overflow": null,
            "overflow_x": null,
            "overflow_y": null,
            "padding": null,
            "right": null,
            "top": null,
            "visibility": null,
            "width": null
          }
        },
        "23a9c4e51f4e409fb25490a9fc95c28f": {
          "model_module": "@jupyter-widgets/controls",
          "model_name": "DescriptionStyleModel",
          "model_module_version": "1.5.0",
          "state": {
            "_model_module": "@jupyter-widgets/controls",
            "_model_module_version": "1.5.0",
            "_model_name": "DescriptionStyleModel",
            "_view_count": null,
            "_view_module": "@jupyter-widgets/base",
            "_view_module_version": "1.2.0",
            "_view_name": "StyleView",
            "description_width": ""
          }
        }
      }
    }
  },
  "nbformat": 4,
  "nbformat_minor": 5
}